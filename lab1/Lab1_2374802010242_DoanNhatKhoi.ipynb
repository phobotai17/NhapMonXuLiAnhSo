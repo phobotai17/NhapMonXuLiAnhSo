{
 "cells": [
  {
   "cell_type": "code",
   "execution_count": 1,
   "id": "f01d5ede",
   "metadata": {},
   "outputs": [
    {
     "name": "stdout",
     "output_type": "stream",
     "text": [
      "Requirement already satisfied: imageio in /opt/anaconda3/lib/python3.12/site-packages (2.33.1)\n",
      "Requirement already satisfied: numpy in /opt/anaconda3/lib/python3.12/site-packages (from imageio) (1.26.4)\n",
      "Requirement already satisfied: pillow>=8.3.2 in /opt/anaconda3/lib/python3.12/site-packages (from imageio) (10.3.0)\n",
      "Note: you may need to restart the kernel to use updated packages.\n"
     ]
    }
   ],
   "source": [
    "pip install imageio"
   ]
  },
  {
   "cell_type": "code",
   "execution_count": 2,
   "id": "de13ac37",
   "metadata": {},
   "outputs": [
    {
     "name": "stdout",
     "output_type": "stream",
     "text": [
      "Requirement already satisfied: scipy in /opt/anaconda3/lib/python3.12/site-packages (1.13.1)\n",
      "Requirement already satisfied: numpy<2.3,>=1.22.4 in /opt/anaconda3/lib/python3.12/site-packages (from scipy) (1.26.4)\n",
      "Note: you may need to restart the kernel to use updated packages.\n"
     ]
    }
   ],
   "source": [
    "pip install scipy"
   ]
  },
  {
   "cell_type": "code",
   "execution_count": 3,
   "id": "9845fabe",
   "metadata": {},
   "outputs": [
    {
     "name": "stdout",
     "output_type": "stream",
     "text": [
      "Requirement already satisfied: scikit-image in /opt/anaconda3/lib/python3.12/site-packages (0.23.2)\n",
      "Requirement already satisfied: numpy>=1.23 in /opt/anaconda3/lib/python3.12/site-packages (from scikit-image) (1.26.4)\n",
      "Requirement already satisfied: scipy>=1.9 in /opt/anaconda3/lib/python3.12/site-packages (from scikit-image) (1.13.1)\n",
      "Requirement already satisfied: networkx>=2.8 in /opt/anaconda3/lib/python3.12/site-packages (from scikit-image) (3.2.1)\n",
      "Requirement already satisfied: pillow>=9.1 in /opt/anaconda3/lib/python3.12/site-packages (from scikit-image) (10.3.0)\n",
      "Requirement already satisfied: imageio>=2.33 in /opt/anaconda3/lib/python3.12/site-packages (from scikit-image) (2.33.1)\n",
      "Requirement already satisfied: tifffile>=2022.8.12 in /opt/anaconda3/lib/python3.12/site-packages (from scikit-image) (2023.4.12)\n",
      "Requirement already satisfied: packaging>=21 in /opt/anaconda3/lib/python3.12/site-packages (from scikit-image) (23.2)\n",
      "Requirement already satisfied: lazy-loader>=0.4 in /opt/anaconda3/lib/python3.12/site-packages (from scikit-image) (0.4)\n",
      "Note: you may need to restart the kernel to use updated packages.\n"
     ]
    }
   ],
   "source": [
    "pip install scikit-image"
   ]
  },
  {
   "cell_type": "code",
   "execution_count": 19,
   "id": "43879a4c",
   "metadata": {},
   "outputs": [],
   "source": [
    "from PIL import Image"
   ]
  },
  {
   "cell_type": "code",
   "execution_count": 23,
   "id": "e7030abe",
   "metadata": {},
   "outputs": [],
   "source": [
    "import numpy as np\n",
    "import colorsys"
   ]
  },
  {
   "cell_type": "markdown",
   "id": "cbbc40b3",
   "metadata": {},
   "source": [
    "Bai 1"
   ]
  },
  {
   "cell_type": "code",
   "execution_count": null,
   "id": "1dd4b1fd",
   "metadata": {},
   "outputs": [
    {
     "name": "stdout",
     "output_type": "stream",
     "text": [
      "Đã lưu 3 ảnh với kênh màu riêng biệt.\n"
     ]
    }
   ],
   "source": [
    "image = Image.open(\"excercise/baby.jpeg\")\n",
    "\n",
    "r, g, b = image.split()\n",
    "\n",
    "red_image = Image.merge(\"RGB\", (r, Image.new(\"L\", r.size), Image.new(\"L\", r.size)))\n",
    "green_image = Image.merge(\"RGB\", (Image.new(\"L\", g.size), g, Image.new(\"L\", g.size)))\n",
    "blue_image = Image.merge(\"RGB\", (Image.new(\"L\", b.size), Image.new(\"L\", b.size), b))\n",
    "\n",
    "red_image.save(\"red_channel.jpg\")\n",
    "green_image.save(\"green_channel.jpg\")\n",
    "blue_image.save(\"blue_channel.jpg\")\n",
    "\n",
    "print(\"Đã lưu 3 ảnh với kênh màu riêng biệt.\")\n"
   ]
  },
  {
   "cell_type": "markdown",
   "id": "32e20507",
   "metadata": {},
   "source": [
    "bai 2"
   ]
  },
  {
   "cell_type": "code",
   "execution_count": null,
   "id": "e3a47be8",
   "metadata": {},
   "outputs": [
    {
     "name": "stdout",
     "output_type": "stream",
     "text": [
      "Đã lưu ảnh và hoán đổi giá trị các màu.\n"
     ]
    }
   ],
   "source": [
    "image = Image.open(\"exercise/flower.jpeg\")\n",
    "\n",
    "r, g, b = image.split()\n",
    "\n",
    "swapped_image = Image.merge(\"RGB\", (b,g,r))\n",
    "\n",
    "swapped_image.save(\"swapped_image.jpg\")\n",
    "\n",
    "print(\"Đã lưu ảnh và hoán đổi giá trị các màu.\")\n"
   ]
  },
  {
   "cell_type": "markdown",
   "id": "010224c7",
   "metadata": {},
   "source": [
    "Bai 3"
   ]
  },
  {
   "cell_type": "code",
   "execution_count": null,
   "id": "a495ebec",
   "metadata": {},
   "outputs": [
    {
     "name": "stdout",
     "output_type": "stream",
     "text": [
      "Saved output_red.jpg\n",
      "Saved output_green.jpg\n",
      "Saved output_blue.jpg\n"
     ]
    }
   ],
   "source": [
    "from PIL import Image\n",
    "import numpy as np\n",
    "import colorsys\n",
    "input_path = \"exercise/balloons_noisy.png\"  \n",
    "image = Image.open(input_path).convert(\"RGB\")\n",
    "pixels = np.array(image)\n",
    "\n",
    "height, width, _ = pixels.shape\n",
    "\n",
    "hue_shifts = [\n",
    "    0.0,     # đỏ\n",
    "    0.333,   # xanh lá\n",
    "    0.667    # xanh dương\n",
    "]\n",
    "output_names = [\"output_red.jpg\", \"output_green.jpg\", \"output_blue.jpg\"]\n",
    "\n",
    "for hue_target, output_name in zip(hue_shifts, output_names):\n",
    "    output_pixels = np.zeros_like(pixels, dtype=np.uint8)\n",
    "\n",
    "    for i in range(height):\n",
    "        for j in range(width):\n",
    "            r, g, b = pixels[i, j] / 255.0\n",
    "            h, s, v = colorsys.rgb_to_hsv(r, g, b)\n",
    "\n",
    "            h = hue_target  \n",
    "            r, g, b = colorsys.hsv_to_rgb(h, s, v)\n",
    "            output_pixels[i, j] = [int(r * 255), int(g * 255), int(b * 255)]\n",
    "\n",
    "    output_image = Image.fromarray(output_pixels, \"RGB\")\n",
    "    output_image.save(output_name)\n",
    "    print(f\"Đã lưu ảnh: {output_name}\")\n"
   ]
  },
  {
   "cell_type": "markdown",
   "id": "8dc99bac",
   "metadata": {},
   "source": [
    "bài 4"
   ]
  },
  {
   "cell_type": "code",
   "execution_count": null,
   "id": "f673f1f0",
   "metadata": {},
   "outputs": [
    {
     "name": "stdout",
     "output_type": "stream",
     "text": [
      "Đã lưu ảnh kết quả: output_modified.jpg\n"
     ]
    }
   ],
   "source": [
    "from PIL import Image\n",
    "import numpy as np\n",
    "import colorsys\n",
    "\n",
    "input_path = \"exercise/balloons_noisy.png\"  \n",
    "image = Image.open(input_path).convert(\"RGB\")\n",
    "pixels = np.array(image)\n",
    "\n",
    "height, width, _ = pixels.shape\n",
    "output_pixels = np.zeros_like(pixels, dtype=np.uint8)\n",
    "\n",
    "for i in range(height):\n",
    "    for j in range(width):\n",
    "        r, g, b = pixels[i, j] / 255.0  \n",
    "        h, s, v = colorsys.rgb_to_hsv(r, g, b)\n",
    "\n",
    "        h_new = (1/3) * h\n",
    "        v_new = (3/4) * v\n",
    "\n",
    "        r_new, g_new, b_new = colorsys.hsv_to_rgb(h_new, s, v_new)\n",
    "        output_pixels[i, j] = [int(r_new * 255), int(g_new * 255), int(b_new * 255)]\n",
    "\n",
    "output_image = Image.fromarray(output_pixels, \"RGB\")\n",
    "output_image.save(\"output_modified.jpg\")\n",
    "print(\"Đã lưu ảnh kết quả: output_modified.jpg\")\n"
   ]
  },
  {
   "cell_type": "markdown",
   "id": "e75ad355",
   "metadata": {},
   "source": [
    "Bài 5"
   ]
  },
  {
   "cell_type": "code",
   "execution_count": null,
   "id": "4c7fc01d",
   "metadata": {},
   "outputs": [
    {
     "ename": "TypeError",
     "evalue": "PillowPlugin.read() got an unexpected keyword argument 'as_grey'",
     "output_type": "error",
     "traceback": [
      "\u001b[0;31m---------------------------------------------------------------------------\u001b[0m",
      "\u001b[0;31mTypeError\u001b[0m                                 Traceback (most recent call last)",
      "Cell \u001b[0;32mIn[2], line 5\u001b[0m\n\u001b[1;32m      2\u001b[0m \u001b[38;5;28;01mimport\u001b[39;00m \u001b[38;5;21;01mscipy\u001b[39;00m\u001b[38;5;21;01m.\u001b[39;00m\u001b[38;5;21;01mndimage\u001b[39;00m \u001b[38;5;28;01mas\u001b[39;00m \u001b[38;5;21;01msn\u001b[39;00m\n\u001b[1;32m      3\u001b[0m \u001b[38;5;28;01mimport\u001b[39;00m \u001b[38;5;21;01mmatplotlib\u001b[39;00m\u001b[38;5;21;01m.\u001b[39;00m\u001b[38;5;21;01mpylab\u001b[39;00m \u001b[38;5;28;01mas\u001b[39;00m \u001b[38;5;21;01mplt\u001b[39;00m\n\u001b[0;32m----> 5\u001b[0m a \u001b[38;5;241m=\u001b[39m iio\u001b[38;5;241m.\u001b[39mimread(\u001b[38;5;124m'\u001b[39m\u001b[38;5;124mexercise/flower.jpeg\u001b[39m\u001b[38;5;124m'\u001b[39m, as_grey\u001b[38;5;241m=\u001b[39m\u001b[38;5;28;01mTrue\u001b[39;00m)\n\u001b[1;32m      7\u001b[0m k \u001b[38;5;241m=\u001b[39m np\u001b[38;5;241m.\u001b[39mones((\u001b[38;5;241m5\u001b[39m, \u001b[38;5;241m5\u001b[39m)) \u001b[38;5;241m/\u001b[39m \u001b[38;5;241m25\u001b[39m\n\u001b[1;32m      8\u001b[0m b \u001b[38;5;241m=\u001b[39m sn\u001b[38;5;241m.\u001b[39mconvolve(a, k)\u001b[38;5;241m.\u001b[39mastype(np\u001b[38;5;241m.\u001b[39muint8)\n",
      "File \u001b[0;32m/opt/anaconda3/lib/python3.12/site-packages/imageio/v2.py:360\u001b[0m, in \u001b[0;36mimread\u001b[0;34m(uri, format, **kwargs)\u001b[0m\n\u001b[1;32m    357\u001b[0m imopen_args[\u001b[38;5;124m\"\u001b[39m\u001b[38;5;124mlegacy_mode\u001b[39m\u001b[38;5;124m\"\u001b[39m] \u001b[38;5;241m=\u001b[39m \u001b[38;5;28;01mTrue\u001b[39;00m\n\u001b[1;32m    359\u001b[0m \u001b[38;5;28;01mwith\u001b[39;00m imopen(uri, \u001b[38;5;124m\"\u001b[39m\u001b[38;5;124mri\u001b[39m\u001b[38;5;124m\"\u001b[39m, \u001b[38;5;241m*\u001b[39m\u001b[38;5;241m*\u001b[39mimopen_args) \u001b[38;5;28;01mas\u001b[39;00m file:\n\u001b[0;32m--> 360\u001b[0m     result \u001b[38;5;241m=\u001b[39m file\u001b[38;5;241m.\u001b[39mread(index\u001b[38;5;241m=\u001b[39m\u001b[38;5;241m0\u001b[39m, \u001b[38;5;241m*\u001b[39m\u001b[38;5;241m*\u001b[39mkwargs)\n\u001b[1;32m    362\u001b[0m \u001b[38;5;28;01mreturn\u001b[39;00m result\n",
      "\u001b[0;31mTypeError\u001b[0m: PillowPlugin.read() got an unexpected keyword argument 'as_grey'"
     ]
    }
   ],
   "source": [
    "import os\n",
    "from PIL import Image, ImageFilter\n",
    "\n",
    "input_folder = \"exercise\"\n",
    "output_folder = \"output_filtered\"\n",
    "\n",
    "os.makedirs(output_folder, exist_ok=True)\n",
    "\n",
    "for filename in os.listdir(input_folder):\n",
    "    if filename.lower().endswith(('.png', '.jpg', '.jpeg', '.bmp', '.tif')):\n",
    "        input_path = os.path.join(input_folder, filename)\n",
    "        output_path = os.path.join(output_folder, filename)\n",
    "\n",
    "        image = Image.open(input_path).convert(\"RGB\")\n",
    "\n",
    "        filtered_image = image.filter(ImageFilter.BoxBlur(1)) \n",
    "        filtered_image.save(output_path)\n",
    "        print(f\"Đã xử lý và lưu: {output_path}\")\n"
   ]
  },
  {
   "cell_type": "markdown",
   "id": "fd8a023e",
   "metadata": {},
   "source": [
    "bài 6"
   ]
  },
  {
   "cell_type": "code",
   "execution_count": null,
   "id": "fad696ab",
   "metadata": {},
   "outputs": [],
   "source": [
    "import os\n",
    "from PIL import Image, ImageFilter\n",
    "import numpy as np\n",
    "import cv2\n",
    "\n",
    "input_folder = \"exercise\"\n",
    "output_folder = \"output_filtered\"\n",
    "os.makedirs(output_folder, exist_ok=True)\n",
    "\n",
    "def calculate_psnr(img1, img2):\n",
    "    mse = np.mean((img1 - img2) ** 2)\n",
    "    if mse == 0:\n",
    "        return float('inf')\n",
    "    PIXEL_MAX = 255.0\n",
    "    return 20 * np.log10(PIXEL_MAX / np.sqrt(mse))\n",
    "\n",
    "for filename in os.listdir(input_folder):\n",
    "    if filename.lower().endswith(('.jpg', '.jpeg', '.png', '.bmp')):\n",
    "        print(f\"Đang xử lý: {filename}\")\n",
    "        path = os.path.join(input_folder, filename)\n",
    "        image = Image.open(path).convert(\"RGB\")\n",
    "        image_np = np.array(image)\n",
    "\n",
    "        mean = cv2.blur(image_np, (3, 3))\n",
    "\n",
    "        median = cv2.medianBlur(image_np, 3)\n",
    "\n",
    "        gaussian = cv2.GaussianBlur(image_np, (3, 3), 0)\n",
    "\n",
    "        base_name = os.path.splitext(filename)[0]\n",
    "        Image.fromarray(mean).save(os.path.join(output_folder, f\"{base_name}_mean.jpg\"))\n",
    "        Image.fromarray(median).save(os.path.join(output_folder, f\"{base_name}_median.jpg\"))\n",
    "        Image.fromarray(gaussian).save(os.path.join(output_folder, f\"{base_name}_gaussian.jpg\"))\n",
    "\n",
    "      "
   ]
  },
  {
   "cell_type": "markdown",
   "id": "69da8b54",
   "metadata": {},
   "source": [
    "Median Filter thường là bộ lọc khử nhiễu hiệu quả nhất nếu ảnh chứa nhiều nhiễu dạng muối tiêu.\n",
    "Gaussian thường hiệu quả hơn nếu nhiễu theo phân bố chuẩn (gaussian noise).\n",
    "Mean chỉ tốt khi cần làm mịn đơn giản, không khử nhiễu đặc biệt hiệu quả."
   ]
  },
  {
   "cell_type": "markdown",
   "id": "dd830c58",
   "metadata": {},
   "source": [
    "bai 7"
   ]
  },
  {
   "cell_type": "code",
   "execution_count": null,
   "id": "91842168",
   "metadata": {},
   "outputs": [],
   "source": [
    "import os\n",
    "import cv2\n",
    "import numpy as np\n",
    "\n",
    "input_folder = \"exercise\"\n",
    "output_folder = \"output_edges\"\n",
    "os.makedirs(output_folder, exist_ok=True)\n",
    "\n",
    "for filename in os.listdir(input_folder):\n",
    "    if filename.lower().endswith(('.jpg', '.jpeg', '.png', '.bmp', '.png')):\n",
    "        print(f\"Đang xử lý: {filename}\")\n",
    "        input_path = os.path.join(input_folder, filename)\n",
    "        base_name = os.path.splitext(filename)[0]\n",
    "\n",
    "        img = cv2.imread(input_path, cv2.IMREAD_GRAYSCALE)\n",
    "\n",
    "        denoised = cv2.GaussianBlur(img, (5, 5), 1.0)\n",
    "\n",
    "        \n",
    "        sobelx = cv2.Sobel(denoised, cv2.CV_64F, 1, 0, ksize=3)\n",
    "        sobely = cv2.Sobel(denoised, cv2.CV_64F, 0, 1, ksize=3)\n",
    "        sobel_combined = cv2.magnitude(sobelx, sobely)\n",
    "        sobel_combined = np.uint8(np.clip(sobel_combined, 0, 255))\n",
    "\n"
   ]
  },
  {
   "cell_type": "markdown",
   "id": "f5255afa",
   "metadata": {},
   "source": [
    "bai 8"
   ]
  },
  {
   "cell_type": "code",
   "execution_count": null,
   "id": "9de8b2de",
   "metadata": {},
   "outputs": [],
   "source": [
    "import os\n",
    "import cv2\n",
    "import numpy as np\n",
    "import random\n",
    "\n",
    "input_folder = \"exercise\"\n",
    "output_folder = \"output_colored\"\n",
    "os.makedirs(output_folder, exist_ok=True)\n",
    "\n",
    "def random_rgb_transform(image):\n",
    "    b, g, r = cv2.split(image)\n",
    "\n",
    "    r_scale = random.uniform(0.5, 1.5)\n",
    "    g_scale = random.uniform(0.5, 1.5)\n",
    "    b_scale = random.uniform(0.5, 1.5)\n",
    "\n",
    "    r = np.clip(r * r_scale, 0, 255).astype(np.uint8)\n",
    "    g = np.clip(g * g_scale, 0, 255).astype(np.uint8)\n",
    "    b = np.clip(b * b_scale, 0, 255).astype(np.uint8)\n",
    "\n",
    "    return cv2.merge([b, g, r])\n",
    "\n",
    "for filename in os.listdir(input_folder):\n",
    "    if filename.lower().endswith(('.jpg', '.jpeg', '.png', '.bmp')):\n",
    "        print(f\"Đang xử lý: {filename}\")\n",
    "        input_path = os.path.join(input_folder, filename)\n",
    "        base_name = os.path.splitext(filename)[0]\n",
    "\n",
    "        image = cv2.imread(input_path)\n",
    "\n",
    "        denoised = cv2.GaussianBlur(image, (5, 5), 1.0)\n",
    "\n",
    "        transformed = random_rgb_transform(denoised)\n",
    "\n",
    "        output_path = os.path.join(output_folder, f\"{base_name}_random_color.jpg\")\n",
    "        cv2.imwrite(output_path, transformed)\n",
    "        print(f\"→ Đã lưu ảnh: {output_path}\")\n"
   ]
  },
  {
   "cell_type": "markdown",
   "id": "08d7cea6",
   "metadata": {},
   "source": [
    "bài 9"
   ]
  },
  {
   "cell_type": "code",
   "execution_count": null,
   "id": "145a4a17",
   "metadata": {},
   "outputs": [],
   "source": [
    "import os\n",
    "import cv2\n",
    "import numpy as np\n",
    "import random\n",
    "\n",
    "input_folder = \"exercise\"\n",
    "output_folder = \"output_hsv_random\"\n",
    "os.makedirs(output_folder, exist_ok=True)\n",
    "\n",
    "image_files = [f for f in os.listdir(input_folder) if f.lower().endswith(('.jpg', '.jpeg', '.png', '.bmp'))]\n",
    "num_images = len(image_files)\n",
    "\n",
    "\n",
    "unique_hues = np.linspace(0, 179, num_images, dtype=int)\n",
    "random.shuffle(unique_hues) \n",
    "\n",
    "for idx, filename in enumerate(image_files):\n",
    "    print(f\"Đang xử lý: {filename}\")\n",
    "    input_path = os.path.join(input_folder, filename)\n",
    "    base_name = os.path.splitext(filename)[0]\n",
    "\n",
    "    image = cv2.imread(input_path)\n",
    "\n",
    "    denoised = cv2.GaussianBlur(image, (5, 5), 1.0)\n",
    "\n",
    "    hsv = cv2.cvtColor(denoised, cv2.COLOR_BGR2HSV)\n",
    "\n",
    "    hsv[:, :, 0] = unique_hues[idx] \n",
    "\n",
    "    recolored = cv2.cvtColor(hsv, cv2.COLOR_HSV2BGR)\n",
    "    output_path = os.path.join(output_folder, f\"{base_name}_hsv_random.jpg\")\n",
    "    cv2.imwrite(output_path, recolored)\n",
    "    print(f\"→ Đã lưu ảnh: {output_path}\")\n"
   ]
  }
 ],
 "metadata": {
  "kernelspec": {
   "display_name": "base",
   "language": "python",
   "name": "python3"
  },
  "language_info": {
   "codemirror_mode": {
    "name": "ipython",
    "version": 3
   },
   "file_extension": ".py",
   "mimetype": "text/x-python",
   "name": "python",
   "nbconvert_exporter": "python",
   "pygments_lexer": "ipython3",
   "version": "3.12.4"
  }
 },
 "nbformat": 4,
 "nbformat_minor": 5
}
